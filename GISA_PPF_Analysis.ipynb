{
 "cells": [
  {
   "cell_type": "code",
   "execution_count": null,
   "id": "7fd7eeeb-2d33-4bdc-b76a-915b553b1b4d",
   "metadata": {},
   "outputs": [],
   "source": [
    "import os\n",
    "import pandas as pd\n",
    "import numpy as np\n",
    "from geopy.distance import great_circle\n",
    "import matplotlib.pyplot as plt"
   ]
  },
  {
   "cell_type": "markdown",
   "id": "fc0e67f1-f740-41ba-8992-831b56c99895",
   "metadata": {},
   "source": [
    "## 1. Load Pseudo PFLOW data from CSV files"
   ]
  },
  {
   "cell_type": "code",
   "execution_count": null,
   "id": "a6461be5-f232-46af-b6dc-6ad4fa48930f",
   "metadata": {},
   "outputs": [],
   "source": [
    "# Define the folder containing Pseudo PFLOW CSV files\n",
    "folder_path = '/mnt/large/data/PseudoPFLOW/ver2.0/activity/13/'  # Replace with the actual folder path containing your CSV files\n",
    "\n",
    "# Read all CSV files from the folder and concatenate them into a single DataFrame\n",
    "pflow_data_list = []\n",
    "\n",
    "# Loop through all files in the folder\n",
    "for filename in os.listdir(folder_path):\n",
    "    if filename.endswith('.csv'):\n",
    "        file_path = os.path.join(folder_path, filename)\n",
    "        # Read each CSV file\n",
    "        df = pd.read_csv(file_path, names=['pid', 'age', 'gender', 'occupation', 'activity_type', 'activity_starttime', 'activity_duration', 'activity_longtitude', 'activity_latitude', 'address_code'])\n",
    "        pflow_data_list.append(df)\n",
    "\n",
    "# Concatenate all DataFrames into a single DataFrame\n",
    "pflow_data = pd.concat(pflow_data_list, ignore_index=True)"
   ]
  },
  {
   "cell_type": "code",
   "execution_count": null,
   "id": "9d1acb06-fb8b-4c12-9861-fe560db93ac9",
   "metadata": {},
   "outputs": [],
   "source": [
    "# Function to calculate the radius of gyration for each individual\n",
    "def calculate_radius_of_gyration(group):\n",
    "    coords = group[['activity_latitude', 'activity_longtitude']].to_numpy()\n",
    "    centroid = coords.mean(axis=0)  # Calculate centroid of the locations\n",
    "    radius_of_gyration = np.sqrt(np.mean([great_circle(coord, centroid).meters**2 for coord in coords]))\n",
    "    return radius_of_gyration\n",
    "\n",
    "# Function to count the number of unique visited locations\n",
    "def count_visited_locations(group):\n",
    "    unique_locations = group[['activity_latitude', 'activity_longtitude']].drop_duplicates()\n",
    "    return len(unique_locations)\n",
    "\n",
    "# Function to calculate the stay time distribution for each individual\n",
    "def calculate_stay_time_distribution(group):\n",
    "    return group['activity_duration'].values\n",
    "\n",
    "# Function to calculate jump lengths (distances between consecutive activity points)\n",
    "def calculate_jump_lengths(group):\n",
    "    # Sort the group by activity start time to ensure correct order\n",
    "    group = group.sort_values(by='activity_starttime')\n",
    "    coords = group[['activity_latitude', 'activity_longtitude']].to_numpy()\n",
    "\n",
    "    # Calculate the distance between consecutive points\n",
    "    jump_lengths = [\n",
    "        great_circle(coords[i], coords[i+1]).meters for i in range(len(coords) - 1)\n",
    "    ]\n",
    "    return jump_lengths\n",
    "\n",
    "# Aggregating the results for all individuals\n",
    "results = {'pid': [], 'radius_of_gyration': [], 'num_locations': [], 'stay_times': [], 'jump_lengths': []}\n",
    "\n",
    "# Group the data by individual (pid)\n",
    "for pid, group in pflow_data.groupby('pid'):\n",
    "    radius_of_gyration = calculate_radius_of_gyration(group)\n",
    "    num_locations = count_visited_locations(group)\n",
    "    stay_times = calculate_stay_time_distribution(group)\n",
    "    jump_lengths = calculate_jump_lengths(group)\n",
    "\n",
    "    results['pid'].append(pid)\n",
    "    results['radius_of_gyration'].append(radius_of_gyration)\n",
    "    results['num_locations'].append(num_locations)\n",
    "    results['stay_times'].append(stay_times)\n",
    "    results['jump_lengths'].append(jump_lengths)\n",
    "\n",
    "# Convert results to a DataFrame\n",
    "results_df = pd.DataFrame(results)\n",
    "\n",
    "# Visualize the distribution of results\n",
    "plt.figure(figsize=(12, 10))\n",
    "\n",
    "# Activity radius distribution\n",
    "plt.subplot(4, 1, 1)\n",
    "plt.hist(results_df['radius_of_gyration'], bins=30, edgecolor='black')\n",
    "plt.title('Distribution of Radius of Gyration')\n",
    "plt.xlabel('Radius of Gyration (meters)')\n",
    "plt.ylabel('Frequency')\n",
    "\n",
    "# Number of locations visited distribution\n",
    "plt.subplot(4, 1, 2)\n",
    "plt.hist(results_df['num_locations'], bins=30, edgecolor='black')\n",
    "plt.title('Distribution of Number of Locations Visited')\n",
    "plt.xlabel('Number of Locations')\n",
    "plt.ylabel('Frequency')\n",
    "\n",
    "# Stay time distribution (flatten the stay_times array)\n",
    "stay_times_all = np.concatenate(results_df['stay_times'].values)\n",
    "plt.subplot(4, 1, 3)\n",
    "plt.hist(stay_times_all, bins=30, edgecolor='black')\n",
    "plt.title('Distribution of Stay Times')\n",
    "plt.xlabel('Stay Time (minutes)')\n",
    "plt.ylabel('Frequency')\n",
    "\n",
    "# Jump length distribution (flatten the jump_lengths array)\n",
    "jump_lengths_all = np.concatenate(results_df['jump_lengths'].values)\n",
    "plt.subplot(4, 1, 4)\n",
    "plt.hist(jump_lengths_all, bins=30, edgecolor='black')\n",
    "plt.title('Distribution of Jump Lengths')\n",
    "plt.xlabel('Jump Length (meters)')\n",
    "plt.ylabel('Frequency')\n",
    "\n",
    "plt.tight_layout()\n",
    "plt.show()"
   ]
  },
  {
   "cell_type": "code",
   "execution_count": null,
   "id": "2cff28df-ec76-4f82-848a-d4f8e914d13b",
   "metadata": {},
   "outputs": [],
   "source": []
  }
 ],
 "metadata": {
  "kernelspec": {
   "display_name": "Python 3 (ipykernel)",
   "language": "python",
   "name": "python3"
  },
  "language_info": {
   "codemirror_mode": {
    "name": "ipython",
    "version": 3
   },
   "file_extension": ".py",
   "mimetype": "text/x-python",
   "name": "python",
   "nbconvert_exporter": "python",
   "pygments_lexer": "ipython3",
   "version": "3.11.10"
  },
  "widgets": {
   "application/vnd.jupyter.widget-state+json": {
    "state": {},
    "version_major": 2,
    "version_minor": 0
   }
  }
 },
 "nbformat": 4,
 "nbformat_minor": 5
}
